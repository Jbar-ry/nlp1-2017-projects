{
 "cells": [
  {
   "cell_type": "markdown",
   "metadata": {},
   "source": [
    "# MST tutorial"
   ]
  },
  {
   "cell_type": "code",
   "execution_count": 1,
   "metadata": {
    "collapsed": true
   },
   "outputs": [],
   "source": [
    "import numpy as np\n",
    "from collections import defaultdict\n",
    "import matplotlib\n",
    "import matplotlib.pyplot as plt\n",
    "import networkx as nx\n",
    "%matplotlib inline  "
   ]
  },
  {
   "cell_type": "code",
   "execution_count": 12,
   "metadata": {
    "collapsed": true
   },
   "outputs": [],
   "source": [
    "def mst(scores):\n",
    "    \"\"\"\n",
    "    Chu-Liu-Edmonds' algorithm for finding minimum spanning arborescence in graphs.\n",
    "    Calculates the arborescence with node 0 as root.\n",
    "    Source: https://github.com/chantera/biaffineparser/blob/master/utils.py\n",
    "    \n",
    "    WARNING: mind the comment below. This mst function expects scores[i][j] to be the score from j to i, \n",
    "    not from i to j (as you would probably expect!). If you use a graph where you have the convention\n",
    "    that a head points to its dependent, you will need to transpose it before calling this function.\n",
    "    That is, call `mst(scores.T)` instead of `mst(scores)`.\n",
    "\n",
    "    :param scores: `scores[i][j]` is the weight of edge from node `j` to node `i`\n",
    "    :returns an array containing the head node (node with edge pointing to current node) for each node,\n",
    "             with head[0] fixed as 0\n",
    "    \"\"\"\n",
    "    length = scores.shape[0]\n",
    "    scores = scores * (1 - np.eye(length))\n",
    "    heads = np.argmax(scores, axis=1)\n",
    "    heads[0] = 0\n",
    "    tokens = np.arange(1, length)\n",
    "    roots = np.where(heads[tokens] == 0)[0] + 1\n",
    "    \n",
    "    # print initial heads\n",
    "    print(\"initial heads:\", heads)\n",
    "    \n",
    "    # deal with roots\n",
    "    if len(roots) < 1:\n",
    "        print(\"no node is pointing to root, choosing one\")\n",
    "        root_scores = scores[tokens, 0]\n",
    "        head_scores = scores[tokens, heads[tokens]]\n",
    "        new_root = tokens[np.argmax(root_scores / head_scores)]\n",
    "        print(\"new root is:\", new_root)\n",
    "        heads[new_root] = 0\n",
    "    elif len(roots) > 1:\n",
    "        print(\"multiple nodes are pointing to root, choosing one\")\n",
    "        root_scores = scores[roots, 0]\n",
    "        scores[roots, 0] = 0\n",
    "        new_heads = np.argmax(scores[roots][:, tokens], axis=1) + 1\n",
    "        new_root = roots[np.argmin(scores[roots, new_heads] / root_scores)]\n",
    "        print(\"new root is:\", new_root)\n",
    "        heads[roots] = new_heads\n",
    "        heads[new_root] = 0\n",
    "\n",
    "    # construct edges and vertices\n",
    "    edges = defaultdict(set)\n",
    "    vertices = set((0,))\n",
    "    for dep, head in enumerate(heads[tokens]):\n",
    "        vertices.add(dep + 1)\n",
    "        edges[head].add(dep + 1)\n",
    "        \n",
    "    # identify cycles & contract\n",
    "    for cycle in _find_cycle(vertices, edges):\n",
    "        print(\"Found cycle!\", cycle)\n",
    "        dependents = set()\n",
    "        to_visit = set(cycle)\n",
    "        while len(to_visit) > 0:\n",
    "            node = to_visit.pop()\n",
    "            print(\"Contraction, visiting node:\", node)\n",
    "            if node not in dependents:\n",
    "                dependents.add(node)\n",
    "                to_visit.update(edges[node])\n",
    "        cycle = np.array(list(cycle))\n",
    "        old_heads = heads[cycle]\n",
    "        old_scores = scores[cycle, old_heads]\n",
    "        non_heads = np.array(list(dependents))\n",
    "        scores[np.repeat(cycle, len(non_heads)),\n",
    "               np.repeat([non_heads], len(cycle), axis=0).flatten()] = 0\n",
    "        new_heads = np.argmax(scores[cycle][:, tokens], axis=1) + 1\n",
    "        new_scores = scores[cycle, new_heads] / old_scores\n",
    "        change = np.argmax(new_scores)\n",
    "        changed_cycle = cycle[change]\n",
    "        old_head = old_heads[change]\n",
    "        new_head = new_heads[change]\n",
    "        heads[changed_cycle] = new_head\n",
    "        edges[new_head].add(changed_cycle)\n",
    "        edges[old_head].remove(changed_cycle)\n",
    "\n",
    "    return heads"
   ]
  },
  {
   "cell_type": "code",
   "execution_count": 3,
   "metadata": {
    "collapsed": true
   },
   "outputs": [],
   "source": [
    "def _find_cycle(vertices, edges):\n",
    "    \"\"\"\n",
    "    Finds cycles in given graph, where the graph is provided as (vertices, edges).\n",
    "    https://en.wikipedia.org/wiki/Tarjan%27s_strongly_connected_components_algorithm  # NOQA\n",
    "    https://github.com/tdozat/Parser/blob/0739216129cd39d69997d28cbc4133b360ea3934/lib/etc/tarjan.py  # NOQA\n",
    "    \"\"\"\n",
    "    _index = [0]\n",
    "    _stack = []\n",
    "    _indices = {}\n",
    "    _lowlinks = {}\n",
    "    _onstack = defaultdict(lambda: False)\n",
    "    _SCCs = []\n",
    "\n",
    "    def _strongconnect(v):\n",
    "        _indices[v] = _index[0]\n",
    "        _lowlinks[v] = _index[0]\n",
    "        _index[0] += 1\n",
    "        _stack.append(v)\n",
    "        _onstack[v] = True\n",
    "\n",
    "        for w in edges[v]:\n",
    "            if w not in _indices:\n",
    "                _strongconnect(w)\n",
    "                _lowlinks[v] = min(_lowlinks[v], _lowlinks[w])\n",
    "            elif _onstack[w]:\n",
    "                _lowlinks[v] = min(_lowlinks[v], _indices[w])\n",
    "\n",
    "        if _lowlinks[v] == _indices[v]:\n",
    "            SCC = set()\n",
    "            while True:\n",
    "                w = _stack.pop()\n",
    "                _onstack[w] = False\n",
    "                SCC.add(w)\n",
    "                if not (w != v):\n",
    "                    break\n",
    "            _SCCs.append(SCC)\n",
    "\n",
    "    for v in vertices:\n",
    "        if v not in _indices:\n",
    "            _strongconnect(v)\n",
    "\n",
    "    return [SCC for SCC in _SCCs if len(SCC) > 1]"
   ]
  },
  {
   "cell_type": "markdown",
   "metadata": {},
   "source": [
    "## Example 1: a short sentence\n",
    "\n",
    "Let's try it out on the example in McDonald et al. (2005): \"John saw Mary.\""
   ]
  },
  {
   "cell_type": "code",
   "execution_count": 4,
   "metadata": {},
   "outputs": [
    {
     "name": "stdout",
     "output_type": "stream",
     "text": [
      "['root', 'john', 'saw', 'mary']\n",
      "[0, 1, 2, 3]\n",
      "4\n"
     ]
    }
   ],
   "source": [
    "w2i = defaultdict(lambda: len(w2i))\n",
    "sentence = \"root john saw mary\".split()\n",
    "sentence_ids = [w2i[token] for token in sentence]\n",
    "num_words = len(sentence)\n",
    "i2w = {i: w for w, i in w2i.items()}\n",
    "\n",
    "print(sentence)\n",
    "print(sentence_ids)\n",
    "print(num_words)"
   ]
  },
  {
   "cell_type": "code",
   "execution_count": 5,
   "metadata": {},
   "outputs": [
    {
     "name": "stdout",
     "output_type": "stream",
     "text": [
      "[[ -1.   9.  10.   9.]\n",
      " [ -1.  -1.  20.   3.]\n",
      " [ -1.  30.  -1.  30.]\n",
      " [ -1.  11.   0.  -1.]]\n"
     ]
    }
   ],
   "source": [
    "# define the scores\n",
    "scores = np.full([num_words, num_words], -1.)\n",
    "scores[w2i['root']][w2i['saw']] = 10.\n",
    "scores[w2i['root']][w2i['mary']] = 9.\n",
    "scores[w2i['root']][w2i['john']] = 9.\n",
    "scores[w2i['john']][w2i['saw']] = 20.\n",
    "scores[w2i['john']][w2i['mary']] = 3.\n",
    "scores[w2i['saw']][w2i['mary']] = 30.\n",
    "scores[w2i['saw']][w2i['john']] = 30.\n",
    "scores[w2i['mary']][w2i['john']] = 11.\n",
    "scores[w2i['mary']][w2i['saw']] = 0.\n",
    "\n",
    "print(scores)"
   ]
  },
  {
   "cell_type": "code",
   "execution_count": 6,
   "metadata": {},
   "outputs": [
    {
     "data": {
      "image/png": "[encoded data removed]",
      "text/plain": [
       "<matplotlib.figure.Figure at 0x1065e7978>"
      ]
     },
     "metadata": {},
     "output_type": "display_data"
    }
   ],
   "source": [
    "def plot_heatmap(scores):\n",
    "\n",
    "    # make heatmap with the scores\n",
    "    fig, ax = plt.subplots()\n",
    "    heatmap = ax.pcolor(scores, cmap='viridis')\n",
    "\n",
    "    # set tick labels to the words\n",
    "    ax.set_xticklabels(sentence, minor=False)\n",
    "    ax.set_yticklabels(sentence, minor=False)\n",
    "\n",
    "    # put the major ticks at the middle of each cell\n",
    "    # and the x-ticks on top\n",
    "    ax.xaxis.tick_top()\n",
    "    ax.set_xticks(np.arange(scores.shape[1]) + 0.5, minor=False)\n",
    "    ax.set_yticks(np.arange(scores.shape[0]) + 0.5, minor=False)\n",
    "    ax.invert_yaxis()\n",
    "\n",
    "    # display values\n",
    "    for y in range(scores.shape[0]):\n",
    "        for x in range(scores.shape[1]):\n",
    "            plt.text(x + 0.5, y + 0.5, '%.0f' % scores[y, x],\n",
    "                     horizontalalignment='center',\n",
    "                     verticalalignment='center',\n",
    "                     color='w')\n",
    "\n",
    "    plt.colorbar(heatmap)\n",
    "    plt.show()\n",
    "    \n",
    "plot_heatmap(scores)"
   ]
  },
  {
   "cell_type": "code",
   "execution_count": 7,
   "metadata": {},
   "outputs": [
    {
     "name": "stdout",
     "output_type": "stream",
     "text": [
      "initial heads: [0 2 1 2]\n",
      "no node is pointing to root, choosing one\n",
      "new root is: 2\n",
      "final heads: [0 2 0 2]\n"
     ]
    }
   ],
   "source": [
    "heads = mst(scores.T)\n",
    "print(\"final heads:\", heads)"
   ]
  },
  {
   "cell_type": "markdown",
   "metadata": {},
   "source": [
    "## Example 2: a longer sentence\n",
    "\n",
    "Let's now try this on a longer sentence."
   ]
  },
  {
   "cell_type": "code",
   "execution_count": 8,
   "metadata": {},
   "outputs": [
    {
     "name": "stdout",
     "output_type": "stream",
     "text": [
      "[0 1 2 3 4 5 6 7 8 9]\n",
      "[0 1 2 3 4 5 6 7 8 9]\n",
      "10\n"
     ]
    }
   ],
   "source": [
    "# define a dummy sentence\n",
    "w2i = defaultdict(lambda: len(w2i))\n",
    "sentence = np.arange(10)\n",
    "sentence_ids = sentence\n",
    "num_words = len(sentence)\n",
    "i2w = {i: w for w, i in w2i.items()}\n",
    "\n",
    "print(sentence)\n",
    "print(sentence_ids)\n",
    "print(num_words)"
   ]
  },
  {
   "cell_type": "code",
   "execution_count": 9,
   "metadata": {},
   "outputs": [
    {
     "name": "stdout",
     "output_type": "stream",
     "text": [
      "[[ 37.45401188  95.07143064  73.19939418  59.86584842  15.60186404\n",
      "   15.59945203   5.80836122  86.61761458  60.11150117  70.80725778]\n",
      " [  2.05844943  96.99098522  83.24426408  21.23391107  18.18249672\n",
      "   18.34045099  30.4242243   52.47564316  43.19450186  29.12291402]\n",
      " [ 61.18528947  13.94938607  29.21446485  36.63618433  45.60699842\n",
      "   78.51759614  19.96737822  51.42344384  59.24145689   4.64504127]\n",
      " [ 60.75448519  17.05241237   6.5051593   94.88855373  96.56320331\n",
      "   80.83973481  30.46137692   9.7672114   68.42330265  44.01524937]\n",
      " [ 12.20382348  49.51769101   3.43885211  90.93204021  25.87799816\n",
      "   66.25222844  31.17110761  52.00680212  54.67102793  18.48544555]\n",
      " [ 96.95846278  77.51328234  93.94989416  89.48273504  59.78999788\n",
      "   92.1874235    8.84925021  19.59828624   4.52272889  32.53303308]\n",
      " [ 38.86772897  27.13490318  82.87375092  35.67533267  28.09345097\n",
      "   54.26960832  14.0924225   80.21969808   7.45506437  98.68869366]\n",
      " [ 77.22447693  19.87156815   0.55221171  81.54614285  70.68573438\n",
      "   72.9007168   77.12703467   7.40446517  35.84657285  11.58690595]\n",
      " [ 86.31034259  62.32981268  33.08980249   6.35583503  31.09823217\n",
      "   32.5183322   72.96061783  63.75574714  88.72127426  47.22149252]\n",
      " [ 11.95942459  71.32447872  76.07850486  56.12771976  77.096718\n",
      "   49.37955964  52.27328294  42.75410184   2.54191267  10.7891427 ]]\n"
     ]
    }
   ],
   "source": [
    "# define the scores\n",
    "np.random.seed(seed=42)\n",
    "scores = 100 * np.random.rand(num_words, num_words)\n",
    "print(scores)"
   ]
  },
  {
   "cell_type": "code",
   "execution_count": 10,
   "metadata": {},
   "outputs": [
    {
     "data": {
      "image/png": "[encoded data removed]",
      "text/plain": [
       "<matplotlib.figure.Figure at 0x10e013160>"
      ]
     },
     "metadata": {},
     "output_type": "display_data"
    }
   ],
   "source": [
    "plot_heatmap(scores)"
   ]
  },
  {
   "cell_type": "code",
   "execution_count": 13,
   "metadata": {},
   "outputs": [
    {
     "name": "stdout",
     "output_type": "stream",
     "text": [
      "initial heads: [0 0 5 4 3 3 7 0 3 6]\n",
      "multiple nodes are pointing to root, choosing one\n",
      "new root is: 1\n",
      "Found cycle! {3, 4}\n",
      "Contraction, visiting node: 3\n",
      "Contraction, visiting node: 4\n",
      "Contraction, visiting node: 5\n",
      "Contraction, visiting node: 8\n",
      "Contraction, visiting node: 2\n",
      "Contraction, visiting node: 3\n",
      "Found cycle! {6, 7}\n",
      "Contraction, visiting node: 6\n",
      "Contraction, visiting node: 7\n",
      "Contraction, visiting node: 9\n",
      "Contraction, visiting node: 3\n",
      "Contraction, visiting node: 4\n",
      "Contraction, visiting node: 5\n",
      "Contraction, visiting node: 6\n",
      "Contraction, visiting node: 8\n",
      "Contraction, visiting node: 2\n",
      "final heads: [0 0 5 7 3 3 7 1 3 6]\n"
     ]
    }
   ],
   "source": [
    "heads = mst(scores.T)\n",
    "print(\"final heads:\", heads)"
   ]
  },
  {
   "cell_type": "code",
   "execution_count": null,
   "metadata": {
    "collapsed": true
   },
   "outputs": [],
   "source": []
  }
 ],
 "metadata": {
  "kernelspec": {
   "display_name": "Python 3",
   "language": "python",
   "name": "python3"
  },
  "language_info": {
   "codemirror_mode": {
    "name": "ipython",
    "version": 3
   },
   "file_extension": ".py",
   "mimetype": "text/x-python",
   "name": "python",
   "nbconvert_exporter": "python",
   "pygments_lexer": "ipython3",
   "version": "3.6.1"
  }
 },
 "nbformat": 4,
 "nbformat_minor": 2
}
